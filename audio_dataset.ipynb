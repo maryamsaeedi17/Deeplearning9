{
  "nbformat": 4,
  "nbformat_minor": 0,
  "metadata": {
    "colab": {
      "provenance": [],
      "gpuType": "T4"
    },
    "kernelspec": {
      "name": "python3",
      "display_name": "Python 3"
    },
    "language_info": {
      "name": "python"
    },
    "accelerator": "GPU"
  },
  "cells": [
    {
      "cell_type": "code",
      "execution_count": 2,
      "metadata": {
        "id": "hemyMJcL6PWG",
        "colab": {
          "base_uri": "https://localhost:8080/"
        },
        "outputId": "4a120400-7d5a-435c-d71a-da238765e648"
      },
      "outputs": [
        {
          "output_type": "stream",
          "name": "stdout",
          "text": [
            "Collecting pydub\n",
            "  Downloading pydub-0.25.1-py2.py3-none-any.whl (32 kB)\n",
            "Installing collected packages: pydub\n",
            "Successfully installed pydub-0.25.1\n"
          ]
        }
      ],
      "source": [
        "!pip install pydub"
      ]
    },
    {
      "cell_type": "code",
      "source": [
        "import os\n",
        "import pydub\n",
        "import matplotlib.pyplot as plt"
      ],
      "metadata": {
        "id": "pZbCoXFeZWfY"
      },
      "execution_count": 3,
      "outputs": []
    },
    {
      "cell_type": "code",
      "source": [
        "voice_1 = pydub.AudioSegment.from_file(\"/content/drive/MyDrive/datasets/raw_data/Khadije_1.ogg\")\n",
        "voice_2 = pydub.AudioSegment.from_file(\"/content/drive/MyDrive/datasets/raw_data/Khadije_2.ogg\")\n",
        "\n",
        "result = voice_1 + voice_2\n",
        "result.export(\"/content/drive/MyDrive/datasets/audio_dataset/Khadijeh.ogg\")"
      ],
      "metadata": {
        "id": "xZb_kNY3ZpTJ",
        "colab": {
          "base_uri": "https://localhost:8080/"
        },
        "outputId": "071d56b5-9300-4701-c1d3-fb19a6b1307c"
      },
      "execution_count": 3,
      "outputs": [
        {
          "output_type": "execute_result",
          "data": {
            "text/plain": [
              "<_io.BufferedRandom name='/content/drive/MyDrive/datasets/audio_dataset/Khadijeh.ogg'>"
            ]
          },
          "metadata": {},
          "execution_count": 3
        }
      ]
    },
    {
      "cell_type": "code",
      "source": [
        "voice_1 = pydub.AudioSegment.from_file(\"/content/drive/MyDrive/datasets/raw_data/Parsa_1.ogg\")\n",
        "voice_2 = pydub.AudioSegment.from_file(\"/content/drive/MyDrive/datasets/raw_data/Parsa_2.ogg\")\n",
        "\n",
        "result = voice_1 + voice_2\n",
        "result.export(\"/content/drive/MyDrive/datasets/audio_dataset/Parsa.ogg\")"
      ],
      "metadata": {
        "colab": {
          "base_uri": "https://localhost:8080/"
        },
        "id": "sbPHIUV0RMYP",
        "outputId": "5ecc19c8-d7d1-4586-b7b0-c62c00d4f88f"
      },
      "execution_count": 4,
      "outputs": [
        {
          "output_type": "execute_result",
          "data": {
            "text/plain": [
              "<_io.BufferedRandom name='/content/drive/MyDrive/datasets/audio_dataset/Parsa.ogg'>"
            ]
          },
          "metadata": {},
          "execution_count": 4
        }
      ]
    },
    {
      "cell_type": "code",
      "source": [
        "voice = pydub.AudioSegment.from_file(\"/content/drive/MyDrive/datasets/raw_data/Mona.m4a\")\n",
        "voice.export(\"/content/drive/MyDrive/datasets/audio_dataset/Mona.ogg\")"
      ],
      "metadata": {
        "colab": {
          "base_uri": "https://localhost:8080/"
        },
        "id": "_foXE_f_R8i-",
        "outputId": "deb7b943-3005-4fdd-8a1a-9bd0f5f82521"
      },
      "execution_count": 5,
      "outputs": [
        {
          "output_type": "execute_result",
          "data": {
            "text/plain": [
              "<_io.BufferedRandom name='/content/drive/MyDrive/datasets/audio_dataset/Mona.ogg'>"
            ]
          },
          "metadata": {},
          "execution_count": 5
        }
      ]
    },
    {
      "cell_type": "code",
      "source": [
        "my_voice = pydub.AudioSegment.from_file(\"/content/drive/MyDrive/datasets/audio_dataset/Maryam.ogg\")\n",
        "type(my_voice)"
      ],
      "metadata": {
        "id": "wtY10rBv3M_8",
        "colab": {
          "base_uri": "https://localhost:8080/"
        },
        "outputId": "ef2afdce-a44a-40b3-f271-af11f94be518"
      },
      "execution_count": 6,
      "outputs": [
        {
          "output_type": "execute_result",
          "data": {
            "text/plain": [
              "pydub.audio_segment.AudioSegment"
            ]
          },
          "metadata": {},
          "execution_count": 6
        }
      ]
    },
    {
      "cell_type": "code",
      "source": [
        "my_voice_arr = my_voice.get_array_of_samples()\n",
        "type(my_voice_arr)"
      ],
      "metadata": {
        "colab": {
          "base_uri": "https://localhost:8080/"
        },
        "id": "QOdRgkJEOWIm",
        "outputId": "b3faaeaf-eac6-435e-f678-840e7f5de305"
      },
      "execution_count": 7,
      "outputs": [
        {
          "output_type": "execute_result",
          "data": {
            "text/plain": [
              "array.array"
            ]
          },
          "metadata": {},
          "execution_count": 7
        }
      ]
    },
    {
      "cell_type": "code",
      "source": [
        "plt.figure(figsize=(20, 2))\n",
        "plt.plot(my_voice_arr)\n",
        "plt.show()"
      ],
      "metadata": {
        "colab": {
          "base_uri": "https://localhost:8080/",
          "height": 150
        },
        "id": "qN9NEcu9OxIR",
        "outputId": "820c8a01-61aa-425b-da76-e4d6077c6f55"
      },
      "execution_count": 8,
      "outputs": [
        {
          "output_type": "display_data",
          "data": {
            "text/plain": [
              "<Figure size 2000x200 with 1 Axes>"
            ],
            "image/png": "[encoded data removed]"
          },
          "metadata": {}
        }
      ]
    },
    {
      "cell_type": "code",
      "source": [
        "files = os.listdir(\"/content/drive/MyDrive/datasets/audio_dataset\")\n",
        "files"
      ],
      "metadata": {
        "colab": {
          "base_uri": "https://localhost:8080/"
        },
        "id": "nyteDioqU4rL",
        "outputId": "bccafbb3-2e32-4c5e-a7ed-762d073a3300"
      },
      "execution_count": 4,
      "outputs": [
        {
          "output_type": "execute_result",
          "data": {
            "text/plain": [
              "['Mohammad.ogg',\n",
              " 'Melika.ogg',\n",
              " 'Azra.ogg',\n",
              " 'Sajede.ogg',\n",
              " 'Maryam.ogg',\n",
              " 'Kiana.ogg',\n",
              " 'Shima.ogg',\n",
              " 'Matin.ogg',\n",
              " 'Javad.ogg',\n",
              " 'Parisa.ogg',\n",
              " 'Tara.ogg',\n",
              " 'Davood.ogg',\n",
              " 'Mohammad_Parvari.ogg',\n",
              " 'Abdollah.ogg',\n",
              " 'Nima.ogg',\n",
              " 'Nahid.ogg',\n",
              " 'Omid.ogg',\n",
              " 'Khadijeh.ogg',\n",
              " 'Parsa.ogg',\n",
              " 'Mona.ogg']"
            ]
          },
          "metadata": {},
          "execution_count": 4
        }
      ]
    },
    {
      "cell_type": "code",
      "source": [
        "files = os.listdir(\"/content/drive/MyDrive/datasets/audio_dataset\")\n",
        "\n",
        "for file in files:\n",
        "  audio = pydub.AudioSegment.from_file(os.path.join(\"/content/drive/MyDrive/datasets/audio_dataset\", file))\n",
        "\n",
        "  chunks = pydub.silence.split_on_silence(audio, min_silence_len=2000, silence_thresh=-45)\n",
        "  result = sum(chunks)\n",
        "  file_name = file.split(\".\")[0]\n",
        "  result.export(\"/content/drive/MyDrive/datasets/wav_data/\"+file_name+\".wav\")\n"
      ],
      "metadata": {
        "id": "LlEm8oG9eg5H"
      },
      "execution_count": 5,
      "outputs": []
    },
    {
      "cell_type": "code",
      "source": [
        "wav_data_path = \"/content/drive/MyDrive/datasets/wav_data\"\n",
        "\n",
        "for file in os.listdir(wav_data_path):\n",
        "  audio = pydub.AudioSegment.from_file(os.path.join(wav_data_path, file))\n",
        "\n",
        "  announcer_name = file.split(\".\")[0]\n",
        "  os.makedirs(os.path.join(\"/content/drive/MyDrive/datasets/Audio_Dataset\", announcer_name), exist_ok=True)\n",
        "\n",
        "\n",
        "  chunks = pydub.utils.make_chunks(audio, 1000)\n",
        "  for i, chunk in enumerate(chunks):\n",
        "    if len(chunk) >= 1000:\n",
        "      chunk.export(os.path.join(\"/content/drive/MyDrive/datasets/Audio_Dataset\", announcer_name, f\"voice{i}.wav\"))\n",
        "\n"
      ],
      "metadata": {
        "id": "LQflvo_szN_J"
      },
      "execution_count": 6,
      "outputs": []
    }
  ]
}